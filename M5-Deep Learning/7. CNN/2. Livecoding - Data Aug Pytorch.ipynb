{
 "cells": [
  {
   "cell_type": "markdown",
   "id": "convenient-overview",
   "metadata": {},
   "source": [
    "# Data Augmentation\n",
    "A common strategy for training neural networks is to introduce randomness in the input data itself. For example, you can randomly rotate, mirror, scale, and/or crop your images during training. This will help your network generalize as it's seeing the same images but in different locations, with different sizes, in different orientations, etc.\n",
    "\n",
    "You can import from torchvision the transforms module:\n",
    "\n",
    "\n"
   ]
  },
  {
   "cell_type": "code",
   "execution_count": 1,
   "id": "prospective-south",
   "metadata": {},
   "outputs": [],
   "source": [
    "from torchvision import transforms"
   ]
  },
  {
   "cell_type": "markdown",
   "id": "partial-folder",
   "metadata": {},
   "source": [
    "Some of the operation you can do with it:\n",
    "    \n",
    "- Random rotations: `transforms.RandomRotation(degrees)` will perform random rotations of your images \n",
    "    The `degrees` parameter is a range of degrees to select from. If degrees is a number instead of sequence like (min, max), the range of degrees will be (-degrees, +degrees).\n",
    "\n",
    "- Random resize or crop: `torchvision.transforms.RandomResizedCrop(size)`. Crop the given image to random size and aspect ratio. If size is an int, you will get a square image.\n",
    "\n",
    "- Random Horizontal flip: `transforms.RandomHorizontalFlip()` randomly horizontally flip the images.\n",
    "\n",
    "The rest of the available transformations is [here](https://pytorch.org/docs/stable/torchvision/transforms.html) .\n",
    "\n",
    "\n",
    "You can also compose these transformation using:\n",
    "\n",
    "\n",
    "\n",
    "```python\n",
    "train_transforms = transforms.Compose([transforms.RandomRotation(30),\n",
    "                                       transforms.RandomResizedCrop(224),\n",
    "                                       transforms.RandomHorizontalFlip(),\n",
    "                                       transforms.ToTensor(),\n",
    "                                       transforms.Normalize([0.5, 0.5, 0.5], \n",
    "                                                            [0.5, 0.5, 0.5])])\n",
    "```\n",
    "\n",
    "You'll also typically want to normalize images with `transforms.Normalize`. You pass in a list of means and list of standard deviations, then the color channels are normalized like so\n",
    "\n",
    "```input[channel] = (input[channel] - mean[channel]) / std[channel]```\n",
    "\n",
    "Subtracting `mean` centers the data around zero and dividing by `std` squishes the values to be between -1 and 1. Normalizing helps keep the network work weights near zero which in turn makes backpropagation more stable. *Without normalization, networks will tend to fail to learn.*\n",
    "\n",
    " When you're testing however, you'll want to use images that aren't altered (except you'll need to normalize the same way). So, for validation/test images, you'll typically just resize and crop.\n",
    " \n",
    "Let's try on the MNIST dataset!"
   ]
  },
  {
   "cell_type": "code",
   "execution_count": 8,
   "id": "familiar-links",
   "metadata": {},
   "outputs": [],
   "source": [
    "import torch\n",
    "from torchvision import datasets, transforms\n",
    "\n",
    "# Define a transform to normalize the data\n",
    "transform = transforms.Compose([transforms.RandomRotation(30),\n",
    "                                       transforms.RandomResizedCrop(16),\n",
    "                                       transforms.RandomHorizontalFlip(),\n",
    "                                       transforms.ToTensor(),\n",
    "                                       transforms.Normalize([0.5], \n",
    "                                                            [0.5])])"
   ]
  },
  {
   "cell_type": "markdown",
   "id": "engaged-messenger",
   "metadata": {},
   "source": [
    "Notice that I'm using `transforms.Normalize([0.5], [0.5])])` and not `transforms.Normalize([0.5,0.5,0.5], [0.5,0.5,0.5])])` because in MNIST there are only grayscale images (so only one color channel).\n",
    "\n",
    "Using \n",
    "\n",
    "```datasets.MNIST('~/.pytorch/MNIST_data/', download=True, train=True, transform=transform)```\n",
    "\n",
    "\n",
    "the transformation that you have defined must be passed to the `transform` argument as above\n"
   ]
  },
  {
   "cell_type": "code",
   "execution_count": 11,
   "id": "supposed-repair",
   "metadata": {},
   "outputs": [],
   "source": [
    "# Download and load the training data\n",
    "trainset = datasets.MNIST('~/.pytorch/MNIST_data/', download=True, train=True, transform=transform)\n",
    "trainloader = torch.utils.data.DataLoader(trainset, batch_size=16, shuffle=True)"
   ]
  },
  {
   "cell_type": "code",
   "execution_count": 12,
   "id": "increased-diagnosis",
   "metadata": {},
   "outputs": [],
   "source": [
    "images, labels = next(iter(trainloader))"
   ]
  },
  {
   "cell_type": "code",
   "execution_count": 14,
   "id": "green-wound",
   "metadata": {},
   "outputs": [
    {
     "data": {
      "text/plain": [
       "torch.Size([16, 1, 16, 16])"
      ]
     },
     "execution_count": 14,
     "metadata": {},
     "output_type": "execute_result"
    }
   ],
   "source": [
    "images.shape"
   ]
  },
  {
   "cell_type": "markdown",
   "id": "integral-madrid",
   "metadata": {},
   "source": [
    "As you can see, the shape of the images (last two entries of the cell above) is 16x16 and not 28x28 as expected for the MNIST dataset!"
   ]
  },
  {
   "cell_type": "code",
   "execution_count": 17,
   "id": "wanted-torture",
   "metadata": {},
   "outputs": [
    {
     "data": {
      "text/plain": [
       "<AxesSubplot:>"
      ]
     },
     "execution_count": 17,
     "metadata": {},
     "output_type": "execute_result"
    },
    {
     "data": {
      "image/png": "[encoded data removed]",
      "text/plain": [
       "<Figure size 432x288 with 1 Axes>"
      ]
     },
     "metadata": {
      "needs_background": "light"
     },
     "output_type": "display_data"
    }
   ],
   "source": [
    "import matplotlib.pyplot as plt\n",
    "\n",
    "def imshow(image, ax=None, title=None, normalize=True):\n",
    "    \"\"\"Imshow for Tensor.\"\"\"\n",
    "    if ax is None:\n",
    "        fig, ax = plt.subplots()\n",
    "    image = image.numpy().transpose((1, 2, 0))\n",
    "\n",
    "    if normalize:\n",
    "        mean = np.array([0.485, 0.456, 0.406])\n",
    "        std = np.array([0.229, 0.224, 0.225])\n",
    "        image = std * image + mean\n",
    "        image = np.clip(image, 0, 1)\n",
    "\n",
    "    ax.imshow(image)\n",
    "    ax.spines['top'].set_visible(False)\n",
    "    ax.spines['right'].set_visible(False)\n",
    "    ax.spines['left'].set_visible(False)\n",
    "    ax.spines['bottom'].set_visible(False)\n",
    "    ax.tick_params(axis='both', length=0)\n",
    "    ax.set_xticklabels('')\n",
    "    ax.set_yticklabels('')\n",
    "\n",
    "    return ax\n",
    "\n",
    "imshow(images[0], normalize=False)"
   ]
  },
  {
   "cell_type": "markdown",
   "id": "selected-ability",
   "metadata": {},
   "source": [
    "Visualizing the image you can see it has been randomly cropped as well!"
   ]
  },
  {
   "cell_type": "markdown",
   "id": "filled-stress",
   "metadata": {},
   "source": [
    "You can apply these in your custom dataset as well! Just check the `ImageFolder` method of the `datasets` class in Pytorch:\n",
    "    \n",
    "https://pytorch.org/vision/0.8/datasets.html#imagefolder"
   ]
  },
  {
   "cell_type": "code",
   "execution_count": null,
   "id": "operating-abuse",
   "metadata": {},
   "outputs": [],
   "source": []
  }
 ],
 "metadata": {
  "kernelspec": {
   "display_name": "Python 3",
   "language": "python",
   "name": "python3"
  },
  "language_info": {
   "codemirror_mode": {
    "name": "ipython",
    "version": 3
   },
   "file_extension": ".py",
   "mimetype": "text/x-python",
   "name": "python",
   "nbconvert_exporter": "python",
   "pygments_lexer": "ipython3",
   "version": "3.9.1"
  }
 },
 "nbformat": 4,
 "nbformat_minor": 5
}
