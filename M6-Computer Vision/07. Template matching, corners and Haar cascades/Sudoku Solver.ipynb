{
 "cells": [
  {
   "cell_type": "code",
   "execution_count": 1,
   "metadata": {
    "ExecuteTime": {
     "end_time": "2019-08-15T13:51:30.143129Z",
     "start_time": "2019-08-15T13:51:30.121627Z"
    }
   },
   "outputs": [],
   "source": [
    "def findNextCellToFill(grid, i, j):\n",
    "        for x in range(i,9):\n",
    "                for y in range(j,9):\n",
    "                        if grid[x][y] == 0:\n",
    "                                return x,y\n",
    "        for x in range(0,9):\n",
    "                for y in range(0,9):\n",
    "                        if grid[x][y] == 0:\n",
    "                                return x,y\n",
    "        return -1,-1\n",
    "\n",
    "def isValid(grid, i, j, e):\n",
    "        rowOk = all([e != grid[i][x] for x in range(9)])\n",
    "        if rowOk:\n",
    "                columnOk = all([e != grid[x][j] for x in range(9)])\n",
    "                if columnOk:\n",
    "                        # finding the top left x,y co-ordinates of the section containing the i,j cell\n",
    "                        secTopX, secTopY = 3 *(i//3), 3 *(j//3) #floored quotient should be used here. \n",
    "                        for x in range(secTopX, secTopX+3):\n",
    "                                for y in range(secTopY, secTopY+3):\n",
    "                                        if grid[x][y] == e:\n",
    "                                                return False\n",
    "                        return True\n",
    "        return False\n",
    "\n",
    "def solveSudoku(grid, i=0, j=0):\n",
    "        i,j = findNextCellToFill(grid, i, j)\n",
    "        if i == -1:\n",
    "                return True\n",
    "        for e in range(1,10):\n",
    "                if isValid(grid,i,j,e):\n",
    "                        grid[i][j] = e\n",
    "                        if solveSudoku(grid, i, j):\n",
    "                                return True\n",
    "                        # Undo the current cell for backtracking\n",
    "                        grid[i][j] = 0\n",
    "        return False"
   ]
  },
  {
   "cell_type": "code",
   "execution_count": 2,
   "metadata": {
    "ExecuteTime": {
     "end_time": "2019-08-15T13:51:56.529810Z",
     "start_time": "2019-08-15T13:51:56.473812Z"
    }
   },
   "outputs": [
    {
     "data": {
      "text/plain": [
       "True"
      ]
     },
     "execution_count": 2,
     "metadata": {},
     "output_type": "execute_result"
    }
   ],
   "source": [
    "sudoku = [[5, 1, 7, 6, 0, 0, 0, 3, 4], \n",
    "          [2, 8, 9, 0, 0, 4, 0, 0, 0],\n",
    "          [3, 4, 6, 2, 0, 5, 0, 9, 0], \n",
    "          [6, 0, 2, 0, 0, 0, 0, 1, 0],\n",
    "          [0, 3, 8, 0, 0, 6, 0, 4, 7], \n",
    "          [0, 0, 0, 0, 0, 0, 0, 0, 0],\n",
    "          [0, 9, 0, 0, 0, 0, 0, 7, 8], \n",
    "          [7, 0, 3, 4, 0, 0, 5, 6, 0],\n",
    "          [0, 0, 0, 0, 0, 0, 0, 0, 0]]\n",
    "solveSudoku(sudoku)"
   ]
  },
  {
   "cell_type": "code",
   "execution_count": 3,
   "metadata": {
    "ExecuteTime": {
     "end_time": "2019-08-15T13:52:04.035314Z",
     "start_time": "2019-08-15T13:52:04.023811Z"
    }
   },
   "outputs": [
    {
     "data": {
      "text/plain": [
       "[[5, 1, 7, 6, 9, 8, 2, 3, 4],\n",
       " [2, 8, 9, 1, 3, 4, 7, 5, 6],\n",
       " [3, 4, 6, 2, 7, 5, 8, 9, 1],\n",
       " [6, 7, 2, 8, 4, 9, 3, 1, 5],\n",
       " [1, 3, 8, 5, 2, 6, 9, 4, 7],\n",
       " [9, 5, 4, 7, 1, 3, 6, 8, 2],\n",
       " [4, 9, 5, 3, 6, 2, 1, 7, 8],\n",
       " [7, 2, 3, 4, 8, 1, 5, 6, 9],\n",
       " [8, 6, 1, 9, 5, 7, 4, 2, 3]]"
      ]
     },
     "execution_count": 3,
     "metadata": {},
     "output_type": "execute_result"
    }
   ],
   "source": [
    "sudoku"
   ]
  },
  {
   "cell_type": "code",
   "execution_count": null,
   "metadata": {},
   "outputs": [],
   "source": []
  }
 ],
 "metadata": {
  "kernelspec": {
   "display_name": "Python 3",
   "language": "python",
   "name": "python3"
  },
  "language_info": {
   "codemirror_mode": {
    "name": "ipython",
    "version": 3
   },
   "file_extension": ".py",
   "mimetype": "text/x-python",
   "name": "python",
   "nbconvert_exporter": "python",
   "pygments_lexer": "ipython3",
   "version": "3.8.8"
  }
 },
 "nbformat": 4,
 "nbformat_minor": 2
}
